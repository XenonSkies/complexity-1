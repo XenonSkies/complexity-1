{
 "metadata": {
  "name": "",
  "signature": "sha256:47975cbeb4204a6c91ab0a6353c8137231647548afd87c9917486b7fd62c4dbd"
 },
 "nbformat": 3,
 "nbformat_minor": 0,
 "worksheets": [
  {
   "cells": [
    {
     "cell_type": "code",
     "collapsed": false,
     "input": [
      "%matplotlib inline\n",
      "\n",
      "import matplotlib.pyplot as plt\n",
      "import numpy as np\n",
      "# from __future__ import division\n"
     ],
     "language": "python",
     "metadata": {},
     "outputs": [],
     "prompt_number": 183
    },
    {
     "cell_type": "code",
     "collapsed": false,
     "input": [
      "x = np.array([1,2,3,4,5,6])\n",
      "y = x\n",
      "PolyOrder = 5"
     ],
     "language": "python",
     "metadata": {},
     "outputs": [],
     "prompt_number": 184
    },
    {
     "cell_type": "code",
     "collapsed": false,
     "input": [
      "NumOfDataPairs = x.shape[0]\n",
      "\n",
      "X = np.ones([NumOfDataPairs, PolyOrder+1])\n"
     ],
     "language": "python",
     "metadata": {},
     "outputs": [],
     "prompt_number": 185
    },
    {
     "cell_type": "code",
     "collapsed": false,
     "input": [
      "NumOfDataPairs, X, PolyOrder"
     ],
     "language": "python",
     "metadata": {},
     "outputs": [
      {
       "metadata": {},
       "output_type": "pyout",
       "prompt_number": 186,
       "text": [
        "(6, array([[ 1.,  1.,  1.,  1.,  1.,  1.],\n",
        "        [ 1.,  1.,  1.,  1.,  1.,  1.],\n",
        "        [ 1.,  1.,  1.,  1.,  1.,  1.],\n",
        "        [ 1.,  1.,  1.,  1.,  1.,  1.],\n",
        "        [ 1.,  1.,  1.,  1.,  1.,  1.],\n",
        "        [ 1.,  1.,  1.,  1.,  1.,  1.]]), 5)"
       ]
      }
     ],
     "prompt_number": 186
    },
    {
     "cell_type": "code",
     "collapsed": false,
     "input": [
      "np.ones([4,4])"
     ],
     "language": "python",
     "metadata": {},
     "outputs": [
      {
       "metadata": {},
       "output_type": "pyout",
       "prompt_number": 187,
       "text": [
        "array([[ 1.,  1.,  1.,  1.],\n",
        "       [ 1.,  1.,  1.,  1.],\n",
        "       [ 1.,  1.,  1.,  1.],\n",
        "       [ 1.,  1.,  1.,  1.]])"
       ]
      }
     ],
     "prompt_number": 187
    },
    {
     "cell_type": "code",
     "collapsed": false,
     "input": [
      "for i in range(0,PolyOrder):\n",
      "    X[:,i+1] = x**i "
     ],
     "language": "python",
     "metadata": {},
     "outputs": [],
     "prompt_number": 188
    },
    {
     "cell_type": "code",
     "collapsed": false,
     "input": [
      "X,x"
     ],
     "language": "python",
     "metadata": {},
     "outputs": [
      {
       "metadata": {},
       "output_type": "pyout",
       "prompt_number": 193,
       "text": [
        "(array([[  1.00000000e+00,   1.00000000e+00,   1.00000000e+00,\n",
        "           1.00000000e+00,   1.00000000e+00,   1.00000000e+00],\n",
        "        [  1.00000000e+00,   1.00000000e+00,   2.00000000e+00,\n",
        "           4.00000000e+00,   8.00000000e+00,   1.60000000e+01],\n",
        "        [  1.00000000e+00,   1.00000000e+00,   3.00000000e+00,\n",
        "           9.00000000e+00,   2.70000000e+01,   8.10000000e+01],\n",
        "        [  1.00000000e+00,   1.00000000e+00,   4.00000000e+00,\n",
        "           1.60000000e+01,   6.40000000e+01,   2.56000000e+02],\n",
        "        [  1.00000000e+00,   1.00000000e+00,   5.00000000e+00,\n",
        "           2.50000000e+01,   1.25000000e+02,   6.25000000e+02],\n",
        "        [  1.00000000e+00,   1.00000000e+00,   6.00000000e+00,\n",
        "           3.60000000e+01,   2.16000000e+02,   1.29600000e+03]]),\n",
        " array([1, 2, 3, 4, 5, 6]))"
       ]
      }
     ],
     "prompt_number": 193
    },
    {
     "cell_type": "code",
     "collapsed": false,
     "input": [
      "CV = np.empty((NumOfDataPairs-1,0), float)\n",
      "print CV.shape \n",
      "for n in range(0,NumOfDataPairs):\n",
      "    # the indices \n",
      "    a = range(0,NumOfDataPairs)\n",
      "    b = a\n",
      "    # delete the n'th one \n",
      "    del b[n]\n",
      "\n",
      "    Test_X = X[b,:] # one less from the column \n",
      "    Test_y = y[b]\n",
      "\n",
      "    Train_X = X[n, :]\n",
      "    Train_y = y[n]\n",
      "    \n",
      "#     Paras_hat = np.linalg.solve(np.dot(np.transpose(Test_X),Test_X),np.transpose(Test_X)) #Test_y))\n",
      "#     Pred_y = np.dot(Train_X,Paras_hat)\n",
      "\n",
      "    CV = np.append(CV, ((Test_y - Train_y)**2), axis=0)\n",
      "    CV = np.append(CV,np.vstack(((Test_y - Train_y)**2)),axis=1)\n",
      "    print CV"
     ],
     "language": "python",
     "metadata": {},
     "outputs": [
      {
       "output_type": "stream",
       "stream": "stdout",
       "text": [
        "(5, 0)\n"
       ]
      },
      {
       "ename": "ValueError",
       "evalue": "all the input arrays must have same number of dimensions",
       "output_type": "pyerr",
       "traceback": [
        "\u001b[0;31m---------------------------------------------------------------------------\u001b[0m\n\u001b[0;31mValueError\u001b[0m                                Traceback (most recent call last)",
        "\u001b[0;32m<ipython-input-214-139977aa26af>\u001b[0m in \u001b[0;36m<module>\u001b[0;34m()\u001b[0m\n\u001b[1;32m     17\u001b[0m \u001b[0;31m#     Pred_y = np.dot(Train_X,Paras_hat)\u001b[0m\u001b[0;34m\u001b[0m\u001b[0;34m\u001b[0m\u001b[0m\n\u001b[1;32m     18\u001b[0m \u001b[0;34m\u001b[0m\u001b[0m\n\u001b[0;32m---> 19\u001b[0;31m     \u001b[0mCV\u001b[0m \u001b[0;34m=\u001b[0m \u001b[0mnp\u001b[0m\u001b[0;34m.\u001b[0m\u001b[0mappend\u001b[0m\u001b[0;34m(\u001b[0m\u001b[0mCV\u001b[0m\u001b[0;34m,\u001b[0m \u001b[0;34m(\u001b[0m\u001b[0;34m(\u001b[0m\u001b[0mTest_y\u001b[0m \u001b[0;34m-\u001b[0m \u001b[0mTrain_y\u001b[0m\u001b[0;34m)\u001b[0m\u001b[0;34m**\u001b[0m\u001b[0;36m2\u001b[0m\u001b[0;34m)\u001b[0m\u001b[0;34m,\u001b[0m \u001b[0maxis\u001b[0m\u001b[0;34m=\u001b[0m\u001b[0;36m0\u001b[0m\u001b[0;34m)\u001b[0m\u001b[0;34m\u001b[0m\u001b[0m\n\u001b[0m\u001b[1;32m     20\u001b[0m     \u001b[0;32mprint\u001b[0m \u001b[0mCV\u001b[0m\u001b[0;34m\u001b[0m\u001b[0m\n",
        "\u001b[0;32m/usr/local/lib/python2.7/site-packages/numpy/lib/function_base.pyc\u001b[0m in \u001b[0;36mappend\u001b[0;34m(arr, values, axis)\u001b[0m\n\u001b[1;32m   5001\u001b[0m         \u001b[0mvalues\u001b[0m \u001b[0;34m=\u001b[0m \u001b[0mravel\u001b[0m\u001b[0;34m(\u001b[0m\u001b[0mvalues\u001b[0m\u001b[0;34m)\u001b[0m\u001b[0;34m\u001b[0m\u001b[0m\n\u001b[1;32m   5002\u001b[0m         \u001b[0maxis\u001b[0m \u001b[0;34m=\u001b[0m \u001b[0marr\u001b[0m\u001b[0;34m.\u001b[0m\u001b[0mndim\u001b[0m\u001b[0;34m-\u001b[0m\u001b[0;36m1\u001b[0m\u001b[0;34m\u001b[0m\u001b[0m\n\u001b[0;32m-> 5003\u001b[0;31m     \u001b[0;32mreturn\u001b[0m \u001b[0mconcatenate\u001b[0m\u001b[0;34m(\u001b[0m\u001b[0;34m(\u001b[0m\u001b[0marr\u001b[0m\u001b[0;34m,\u001b[0m \u001b[0mvalues\u001b[0m\u001b[0;34m)\u001b[0m\u001b[0;34m,\u001b[0m \u001b[0maxis\u001b[0m\u001b[0;34m=\u001b[0m\u001b[0maxis\u001b[0m\u001b[0;34m)\u001b[0m\u001b[0;34m\u001b[0m\u001b[0m\n\u001b[0m",
        "\u001b[0;31mValueError\u001b[0m: all the input arrays must have same number of dimensions"
       ]
      }
     ],
     "prompt_number": 214
    },
    {
     "cell_type": "code",
     "collapsed": false,
     "input": [
      "cv_err = np.mean(CV)\n",
      "cv_std = np.sqrt(((NumOfDataPairs-1)/NumOfDataPairs)*np.sum((CV - cv_err)**2))\n",
      "print cv_err\n",
      "print cv_std\n",
      "print (NumOfDataPairs-1)/NumOfDataPairs\n",
      "print ((NumOfDataPairs-1)/NumOfDataPairs)*np.sum((CV - cv_err)**2)"
     ],
     "language": "python",
     "metadata": {},
     "outputs": [
      {
       "output_type": "stream",
       "stream": "stdout",
       "text": [
        "7.0\n",
        "34.4963766213\n",
        "0.833333333333\n",
        "1190.0\n"
       ]
      }
     ],
     "prompt_number": 180
    },
    {
     "cell_type": "code",
     "collapsed": false,
     "input": [
      "import random as rd\n",
      "\n",
      "# Standard deviation of the noise to be added\n",
      "Noise_std = 100\n",
      "\n",
      "# Set up the input variable, 100 points between -5 and 5\n",
      "x = np.transpose(np.linspace(-5,5,100))\n",
      "\n",
      "# Calculate the true function and add some noise\n",
      "y = 5*x**3 - x**2 + x + Noise_std*np.random.rand(np.size(x)) "
     ],
     "language": "python",
     "metadata": {},
     "outputs": [],
     "prompt_number": 181
    },
    {
     "cell_type": "code",
     "collapsed": false,
     "input": [
      "plt.plot(y)\n",
      "plt.show()"
     ],
     "language": "python",
     "metadata": {},
     "outputs": [
      {
       "metadata": {},
       "output_type": "display_data",
       "png": "[encoded data removed]",
       "text": [
        "<matplotlib.figure.Figure at 0x106929590>"
       ]
      }
     ],
     "prompt_number": 210
    },
    {
     "cell_type": "code",
     "collapsed": false,
     "input": [
      "((Test_y - Train_y)**2).shape"
     ],
     "language": "python",
     "metadata": {},
     "outputs": [
      {
       "metadata": {},
       "output_type": "pyout",
       "prompt_number": 211,
       "text": [
        "(5,)"
       ]
      }
     ],
     "prompt_number": 211
    },
    {
     "cell_type": "code",
     "collapsed": false,
     "input": [
      "CV = np.empty((6-1,0), float)\n",
      "print CV.shape \n",
      "Test_y = np.array([[1,2,3,4,5]]).T\n",
      "print Test_y.shape\n",
      "Train_y = 10\n",
      "print Test_y - Train_y\n",
      "CV = np.append(CV,np.vstack(((Test_y - Train_y)**2)),axis=1)\n",
      "print CV"
     ],
     "language": "python",
     "metadata": {},
     "outputs": [
      {
       "output_type": "stream",
       "stream": "stdout",
       "text": [
        "(5, 0)\n",
        "(5, 1)\n",
        "[[-9]\n",
        " [-8]\n",
        " [-7]\n",
        " [-6]\n",
        " [-5]]\n",
        "[[ 81.]\n",
        " [ 64.]\n",
        " [ 49.]\n",
        " [ 36.]\n",
        " [ 25.]]\n"
       ]
      }
     ],
     "prompt_number": 231
    },
    {
     "cell_type": "code",
     "collapsed": false,
     "input": [],
     "language": "python",
     "metadata": {},
     "outputs": []
    }
   ],
   "metadata": {}
  }
 ]
}